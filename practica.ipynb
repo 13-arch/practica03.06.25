{
 "cells": [
  {
   "cell_type": "code",
   "execution_count": 9,
   "metadata": {},
   "outputs": [
    {
     "name": "stdout",
     "output_type": "stream",
     "text": [
      "Quack\n",
      "Flying\n",
      "Gobbling\n",
      "Short fly\n",
      "Quack\n",
      "Flying\n"
     ]
    }
   ],
   "source": [
    "class Duck:\n",
    "    def quack(self):\n",
    "        print('Quack')\n",
    "    \n",
    "    def fly(self):\n",
    "        print('Flying')\n",
    "    \n",
    "\n",
    "class Turkey:\n",
    "    def gobble(self):\n",
    "        print('Gobbling')\n",
    "\n",
    "    def fly(self):\n",
    "        print('Short fly')\n",
    "\n",
    "\n",
    "class Adapter(Turkey):\n",
    "\n",
    "    def __init__(self, duck):\n",
    "        self.duck=duck\n",
    "\n",
    "\n",
    "    def gobble(self):\n",
    "        self.duck.quack()\n",
    "\n",
    "    def fly(self):\n",
    "        self.duck.fly()\n",
    "\n",
    "a = Duck()\n",
    "b = Turkey()\n",
    "a.quack()\n",
    "a.fly()\n",
    "b.gobble()\n",
    "b.fly()\n",
    "c = Adapter(a)\n",
    "c.gobble()\n",
    "c.fly()"
   ]
  },
  {
   "cell_type": "code",
   "execution_count": 19,
   "metadata": {},
   "outputs": [
    {
     "name": "stdout",
     "output_type": "stream",
     "text": [
      "a b v\n",
      "a\n"
     ]
    }
   ],
   "source": [
    "class User_input:\n",
    "\n",
    "    def __init__(self,fio):\n",
    "        self.fio=fio\n",
    "        print(fio)\n",
    "\n",
    "\n",
    "class DB_proc:\n",
    "    def __init__(self,f,i,o):\n",
    "        self.f=f\n",
    "        self.i=i\n",
    "        self.o=o\n",
    "        print(f,i,o)\n",
    "\n",
    "class Adapter:\n",
    "    def __init__(self,user):\n",
    "        self.user= user\n",
    "        self.f=''\n",
    "        self.i=''\n",
    "        self.o=''\n",
    "\n",
    "    def splitter(self):\n",
    "        self.f,self.i,self.o=self.user.split()\n",
    "\n",
    "\n",
    "                                                                                                                                                                                                                                                                                                                                                                                                                                                                                                                                                                                                                                                                                                                                                                                                                                                                                                                                                              \n",
    "a = ('a b v')\n",
    "b= Adapter(a)\n",
    "x = User_input(a)\n",
    "b.splitter()  \n",
    "c= DB_proc(b.f,b.i,b.o)    \n",
    "print(c)        "
   ]
  }
 ],
 "metadata": {
  "kernelspec": {
   "display_name": "Python 3",
   "language": "python",
   "name": "python3"
  },
  "language_info": {
   "codemirror_mode": {
    "name": "ipython",
    "version": 3
   },
   "file_extension": ".py",
   "mimetype": "text/x-python",
   "name": "python",
   "nbconvert_exporter": "python",
   "pygments_lexer": "ipython3",
   "version": "3.12.3"
  }
 },
 "nbformat": 4,
 "nbformat_minor": 2
}
